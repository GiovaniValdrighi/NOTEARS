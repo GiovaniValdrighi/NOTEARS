{
  "nbformat": 4,
  "nbformat_minor": 0,
  "metadata": {
    "colab": {
      "name": "Untitled4.ipynb",
      "provenance": [],
      "authorship_tag": "ABX9TyOWNfnEe00AgdhESi//mAY4",
      "include_colab_link": true
    },
    "kernelspec": {
      "name": "python3",
      "display_name": "Python 3"
    }
  },
  "cells": [
    {
      "cell_type": "markdown",
      "metadata": {
        "id": "view-in-github",
        "colab_type": "text"
      },
      "source": [
        "<a href=\"https://colab.research.google.com/github/GiovaniValdrighi/NOTEARS/blob/master/example.ipynb\" target=\"_parent\"><img src=\"https://colab.research.google.com/assets/colab-badge.svg\" alt=\"Open In Colab\"/></a>"
      ]
    },
    {
      "cell_type": "code",
      "metadata": {
        "id": "382ZcBDKmzjw",
        "colab_type": "code",
        "colab": {
          "base_uri": "https://localhost:8080/",
          "height": 71
        },
        "outputId": "f8589523-72e2-4624-f2bf-4f9e986a0143"
      },
      "source": [
        "import numpy as np\n",
        "import pandas as pd\n",
        "import matplotlib.pyplot as plt\n",
        "import seaborn as sns\n",
        "from notears import *"
      ],
      "execution_count": 167,
      "outputs": [
        {
          "output_type": "stream",
          "text": [
            "/usr/local/lib/python3.6/dist-packages/statsmodels/tools/_testing.py:19: FutureWarning: pandas.util.testing is deprecated. Use the functions in the public API at pandas.testing instead.\n",
            "  import pandas.util.testing as tm\n"
          ],
          "name": "stderr"
        }
      ]
    },
    {
      "cell_type": "code",
      "metadata": {
        "id": "kjtZuMENm90q",
        "colab_type": "code",
        "colab": {}
      },
      "source": [
        "def load_data(n_samples):\n",
        "  W = np.zeros([4, 4])\n",
        "  W[0, 1] = 2\n",
        "  W[1, 2] = 2\n",
        "  W[1, 3] = 3\n",
        "  W[2, 3] = 1.7\n",
        "  X = np.ones([n_samples, 4])\n",
        "  Z = np.random.normal(loc = 0, scale = 1 , size = [n_samples])\n",
        "  for i in range(X.shape[1]):\n",
        "    X[:, i] = np.matmul(X, W[:, i]) + Z\n",
        "  return W ,X\n",
        "dag, data = load_data(1000)"
      ],
      "execution_count": 0,
      "outputs": []
    },
    {
      "cell_type": "markdown",
      "metadata": {
        "id": "Wu_48hZO3Jcb",
        "colab_type": "text"
      },
      "source": [
        "Comparison between real adjascency matrix and estimated matrix from NOTEARS."
      ]
    },
    {
      "cell_type": "code",
      "metadata": {
        "id": "2XBuQuMsh4HX",
        "colab_type": "code",
        "colab": {
          "base_uri": "https://localhost:8080/",
          "height": 256
        },
        "outputId": "62fd4de1-f32e-49fe-b3f7-d3bc146525ae"
      },
      "source": [
        "plt.subplot(121)\n",
        "plt.imshow(dag)\n",
        "plt.subplot(122)\n",
        "plt.imshow(notears_linear(data, lambda1 = 0.1))\n",
        "plt.colorbar()\n",
        "plt.show()"
      ],
      "execution_count": 168,
      "outputs": [
        {
          "output_type": "display_data",
          "data": {
            "image/png": "[encoded data removed]",
            "text/plain": [
              "<Figure size 432x288 with 3 Axes>"
            ]
          },
          "metadata": {
            "tags": [],
            "needs_background": "light"
          }
        }
      ]
    },
    {
      "cell_type": "code",
      "metadata": {
        "id": "g8LRrhy30hvS",
        "colab_type": "code",
        "colab": {}
      },
      "source": [
        ""
      ],
      "execution_count": 0,
      "outputs": []
    }
  ]
}